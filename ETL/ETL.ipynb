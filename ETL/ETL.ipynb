{
 "cells": [
  {
   "cell_type": "code",
   "execution_count": 1,
   "metadata": {},
   "outputs": [],
   "source": [
    "import pandas as pd\n",
    "from sqlalchemy import create_engine"
   ]
  },
  {
   "cell_type": "code",
   "execution_count": 2,
   "metadata": {},
   "outputs": [],
   "source": [
    "epidemic_zika='/Users/maheshdivakarannair/Desktop/Project Outbreak/cdc_zika.csv'"
   ]
  },
  {
   "cell_type": "code",
   "execution_count": 4,
   "metadata": {},
   "outputs": [],
   "source": [
    "epidemic_zika_df = pd.read_csv(epidemic_zika)"
   ]
  },
  {
   "cell_type": "code",
   "execution_count": 6,
   "metadata": {},
   "outputs": [
    {
     "data": {
      "text/html": [
       "<div>\n",
       "<style scoped>\n",
       "    .dataframe tbody tr th:only-of-type {\n",
       "        vertical-align: middle;\n",
       "    }\n",
       "\n",
       "    .dataframe tbody tr th {\n",
       "        vertical-align: top;\n",
       "    }\n",
       "\n",
       "    .dataframe thead th {\n",
       "        text-align: right;\n",
       "    }\n",
       "</style>\n",
       "<table border=\"1\" class=\"dataframe\">\n",
       "  <thead>\n",
       "    <tr style=\"text-align: right;\">\n",
       "      <th></th>\n",
       "      <th>report_date</th>\n",
       "      <th>location</th>\n",
       "      <th>location_type</th>\n",
       "      <th>data_field</th>\n",
       "      <th>data_field_code</th>\n",
       "      <th>time_period</th>\n",
       "      <th>time_period_type</th>\n",
       "      <th>value</th>\n",
       "      <th>unit</th>\n",
       "    </tr>\n",
       "  </thead>\n",
       "  <tbody>\n",
       "    <tr>\n",
       "      <td>0</td>\n",
       "      <td>11/28/15</td>\n",
       "      <td>El_Salvador-Ahuachapan</td>\n",
       "      <td>department</td>\n",
       "      <td>cumulative_suspected_total</td>\n",
       "      <td>SV0010</td>\n",
       "      <td>NaN</td>\n",
       "      <td>NaN</td>\n",
       "      <td>4</td>\n",
       "      <td>cases</td>\n",
       "    </tr>\n",
       "    <tr>\n",
       "      <td>1</td>\n",
       "      <td>11/28/15</td>\n",
       "      <td>El_Salvador-Cabanas</td>\n",
       "      <td>department</td>\n",
       "      <td>cumulative_suspected_total</td>\n",
       "      <td>SV0010</td>\n",
       "      <td>NaN</td>\n",
       "      <td>NaN</td>\n",
       "      <td>3</td>\n",
       "      <td>cases</td>\n",
       "    </tr>\n",
       "    <tr>\n",
       "      <td>2</td>\n",
       "      <td>11/28/15</td>\n",
       "      <td>El_Salvador-Chalatenango</td>\n",
       "      <td>department</td>\n",
       "      <td>cumulative_suspected_total</td>\n",
       "      <td>SV0010</td>\n",
       "      <td>NaN</td>\n",
       "      <td>NaN</td>\n",
       "      <td>8</td>\n",
       "      <td>cases</td>\n",
       "    </tr>\n",
       "    <tr>\n",
       "      <td>3</td>\n",
       "      <td>11/28/15</td>\n",
       "      <td>El_Salvador-Cuscatlan</td>\n",
       "      <td>department</td>\n",
       "      <td>cumulative_suspected_total</td>\n",
       "      <td>SV0010</td>\n",
       "      <td>NaN</td>\n",
       "      <td>NaN</td>\n",
       "      <td>4</td>\n",
       "      <td>cases</td>\n",
       "    </tr>\n",
       "    <tr>\n",
       "      <td>4</td>\n",
       "      <td>11/28/15</td>\n",
       "      <td>El_Salvador-La_Libertad</td>\n",
       "      <td>department</td>\n",
       "      <td>cumulative_suspected_total</td>\n",
       "      <td>SV0010</td>\n",
       "      <td>NaN</td>\n",
       "      <td>NaN</td>\n",
       "      <td>61</td>\n",
       "      <td>cases</td>\n",
       "    </tr>\n",
       "  </tbody>\n",
       "</table>\n",
       "</div>"
      ],
      "text/plain": [
       "  report_date                  location location_type  \\\n",
       "0    11/28/15    El_Salvador-Ahuachapan    department   \n",
       "1    11/28/15       El_Salvador-Cabanas    department   \n",
       "2    11/28/15  El_Salvador-Chalatenango    department   \n",
       "3    11/28/15     El_Salvador-Cuscatlan    department   \n",
       "4    11/28/15   El_Salvador-La_Libertad    department   \n",
       "\n",
       "                   data_field data_field_code  time_period  time_period_type  \\\n",
       "0  cumulative_suspected_total          SV0010          NaN               NaN   \n",
       "1  cumulative_suspected_total          SV0010          NaN               NaN   \n",
       "2  cumulative_suspected_total          SV0010          NaN               NaN   \n",
       "3  cumulative_suspected_total          SV0010          NaN               NaN   \n",
       "4  cumulative_suspected_total          SV0010          NaN               NaN   \n",
       "\n",
       "  value   unit  \n",
       "0     4  cases  \n",
       "1     3  cases  \n",
       "2     8  cases  \n",
       "3     4  cases  \n",
       "4    61  cases  "
      ]
     },
     "execution_count": 6,
     "metadata": {},
     "output_type": "execute_result"
    }
   ],
   "source": [
    "epidemic_zika_df.head()"
   ]
  },
  {
   "cell_type": "code",
   "execution_count": 7,
   "metadata": {},
   "outputs": [],
   "source": [
    "final_epidemic_zika_df=epidemic_zika_df[[\n",
    "    'report_date','location','location_type','data_field','data_field_code','value'\n",
    "]].copy()"
   ]
  },
  {
   "cell_type": "code",
   "execution_count": 8,
   "metadata": {},
   "outputs": [
    {
     "data": {
      "text/html": [
       "<div>\n",
       "<style scoped>\n",
       "    .dataframe tbody tr th:only-of-type {\n",
       "        vertical-align: middle;\n",
       "    }\n",
       "\n",
       "    .dataframe tbody tr th {\n",
       "        vertical-align: top;\n",
       "    }\n",
       "\n",
       "    .dataframe thead th {\n",
       "        text-align: right;\n",
       "    }\n",
       "</style>\n",
       "<table border=\"1\" class=\"dataframe\">\n",
       "  <thead>\n",
       "    <tr style=\"text-align: right;\">\n",
       "      <th></th>\n",
       "      <th>report_date</th>\n",
       "      <th>location</th>\n",
       "      <th>location_type</th>\n",
       "      <th>data_field</th>\n",
       "      <th>data_field_code</th>\n",
       "      <th>value</th>\n",
       "    </tr>\n",
       "  </thead>\n",
       "  <tbody>\n",
       "    <tr>\n",
       "      <td>0</td>\n",
       "      <td>11/28/15</td>\n",
       "      <td>El_Salvador-Ahuachapan</td>\n",
       "      <td>department</td>\n",
       "      <td>cumulative_suspected_total</td>\n",
       "      <td>SV0010</td>\n",
       "      <td>4</td>\n",
       "    </tr>\n",
       "    <tr>\n",
       "      <td>1</td>\n",
       "      <td>11/28/15</td>\n",
       "      <td>El_Salvador-Cabanas</td>\n",
       "      <td>department</td>\n",
       "      <td>cumulative_suspected_total</td>\n",
       "      <td>SV0010</td>\n",
       "      <td>3</td>\n",
       "    </tr>\n",
       "    <tr>\n",
       "      <td>2</td>\n",
       "      <td>11/28/15</td>\n",
       "      <td>El_Salvador-Chalatenango</td>\n",
       "      <td>department</td>\n",
       "      <td>cumulative_suspected_total</td>\n",
       "      <td>SV0010</td>\n",
       "      <td>8</td>\n",
       "    </tr>\n",
       "    <tr>\n",
       "      <td>3</td>\n",
       "      <td>11/28/15</td>\n",
       "      <td>El_Salvador-Cuscatlan</td>\n",
       "      <td>department</td>\n",
       "      <td>cumulative_suspected_total</td>\n",
       "      <td>SV0010</td>\n",
       "      <td>4</td>\n",
       "    </tr>\n",
       "    <tr>\n",
       "      <td>4</td>\n",
       "      <td>11/28/15</td>\n",
       "      <td>El_Salvador-La_Libertad</td>\n",
       "      <td>department</td>\n",
       "      <td>cumulative_suspected_total</td>\n",
       "      <td>SV0010</td>\n",
       "      <td>61</td>\n",
       "    </tr>\n",
       "  </tbody>\n",
       "</table>\n",
       "</div>"
      ],
      "text/plain": [
       "  report_date                  location location_type  \\\n",
       "0    11/28/15    El_Salvador-Ahuachapan    department   \n",
       "1    11/28/15       El_Salvador-Cabanas    department   \n",
       "2    11/28/15  El_Salvador-Chalatenango    department   \n",
       "3    11/28/15     El_Salvador-Cuscatlan    department   \n",
       "4    11/28/15   El_Salvador-La_Libertad    department   \n",
       "\n",
       "                   data_field data_field_code value  \n",
       "0  cumulative_suspected_total          SV0010     4  \n",
       "1  cumulative_suspected_total          SV0010     3  \n",
       "2  cumulative_suspected_total          SV0010     8  \n",
       "3  cumulative_suspected_total          SV0010     4  \n",
       "4  cumulative_suspected_total          SV0010    61  "
      ]
     },
     "execution_count": 8,
     "metadata": {},
     "output_type": "execute_result"
    }
   ],
   "source": [
    "final_epidemic_zika_df.head()"
   ]
  },
  {
   "cell_type": "code",
   "execution_count": 10,
   "metadata": {},
   "outputs": [
    {
     "data": {
      "text/plain": [
       "report_date        object\n",
       "location           object\n",
       "location_type      object\n",
       "data_field         object\n",
       "data_field_code    object\n",
       "value              object\n",
       "dtype: object"
      ]
     },
     "execution_count": 10,
     "metadata": {},
     "output_type": "execute_result"
    }
   ],
   "source": [
    "final_epidemic_zika_df.dtypes"
   ]
  },
  {
   "cell_type": "code",
   "execution_count": 19,
   "metadata": {},
   "outputs": [],
   "source": [
    "rds_connection_string = \"mahesh1:mahesh@localhost:5432/epidemic_db\"\n",
    "engine = create_engine(f'postgresql://{rds_connection_string}')"
   ]
  },
  {
   "cell_type": "code",
   "execution_count": 22,
   "metadata": {},
   "outputs": [],
   "source": [
    "final_epidemic_zika_df.to_sql(name='zika_epidemic', con=engine, if_exists='append', index=False)"
   ]
  },
  {
   "cell_type": "code",
   "execution_count": 23,
   "metadata": {},
   "outputs": [
    {
     "data": {
      "text/html": [
       "<div>\n",
       "<style scoped>\n",
       "    .dataframe tbody tr th:only-of-type {\n",
       "        vertical-align: middle;\n",
       "    }\n",
       "\n",
       "    .dataframe tbody tr th {\n",
       "        vertical-align: top;\n",
       "    }\n",
       "\n",
       "    .dataframe thead th {\n",
       "        text-align: right;\n",
       "    }\n",
       "</style>\n",
       "<table border=\"1\" class=\"dataframe\">\n",
       "  <thead>\n",
       "    <tr style=\"text-align: right;\">\n",
       "      <th></th>\n",
       "      <th>report_date</th>\n",
       "      <th>location</th>\n",
       "      <th>location_type</th>\n",
       "      <th>data_field</th>\n",
       "      <th>data_field_code</th>\n",
       "      <th>value</th>\n",
       "    </tr>\n",
       "  </thead>\n",
       "  <tbody>\n",
       "    <tr>\n",
       "      <td>0</td>\n",
       "      <td>11/28/15</td>\n",
       "      <td>El_Salvador-Ahuachapan</td>\n",
       "      <td>department</td>\n",
       "      <td>cumulative_suspected_total</td>\n",
       "      <td>SV0010</td>\n",
       "      <td>4</td>\n",
       "    </tr>\n",
       "    <tr>\n",
       "      <td>1</td>\n",
       "      <td>11/28/15</td>\n",
       "      <td>El_Salvador-Cabanas</td>\n",
       "      <td>department</td>\n",
       "      <td>cumulative_suspected_total</td>\n",
       "      <td>SV0010</td>\n",
       "      <td>3</td>\n",
       "    </tr>\n",
       "    <tr>\n",
       "      <td>2</td>\n",
       "      <td>11/28/15</td>\n",
       "      <td>El_Salvador-Chalatenango</td>\n",
       "      <td>department</td>\n",
       "      <td>cumulative_suspected_total</td>\n",
       "      <td>SV0010</td>\n",
       "      <td>8</td>\n",
       "    </tr>\n",
       "    <tr>\n",
       "      <td>3</td>\n",
       "      <td>11/28/15</td>\n",
       "      <td>El_Salvador-Cuscatlan</td>\n",
       "      <td>department</td>\n",
       "      <td>cumulative_suspected_total</td>\n",
       "      <td>SV0010</td>\n",
       "      <td>4</td>\n",
       "    </tr>\n",
       "    <tr>\n",
       "      <td>4</td>\n",
       "      <td>11/28/15</td>\n",
       "      <td>El_Salvador-La_Libertad</td>\n",
       "      <td>department</td>\n",
       "      <td>cumulative_suspected_total</td>\n",
       "      <td>SV0010</td>\n",
       "      <td>61</td>\n",
       "    </tr>\n",
       "  </tbody>\n",
       "</table>\n",
       "</div>"
      ],
      "text/plain": [
       "  report_date                  location location_type  \\\n",
       "0    11/28/15    El_Salvador-Ahuachapan    department   \n",
       "1    11/28/15       El_Salvador-Cabanas    department   \n",
       "2    11/28/15  El_Salvador-Chalatenango    department   \n",
       "3    11/28/15     El_Salvador-Cuscatlan    department   \n",
       "4    11/28/15   El_Salvador-La_Libertad    department   \n",
       "\n",
       "                   data_field data_field_code value  \n",
       "0  cumulative_suspected_total          SV0010     4  \n",
       "1  cumulative_suspected_total          SV0010     3  \n",
       "2  cumulative_suspected_total          SV0010     8  \n",
       "3  cumulative_suspected_total          SV0010     4  \n",
       "4  cumulative_suspected_total          SV0010    61  "
      ]
     },
     "execution_count": 23,
     "metadata": {},
     "output_type": "execute_result"
    }
   ],
   "source": [
    "pd.read_sql_query('select * from zika_epidemic', con=engine).head()"
   ]
  },
  {
   "cell_type": "code",
   "execution_count": null,
   "metadata": {},
   "outputs": [],
   "source": []
  }
 ],
 "metadata": {
  "kernelspec": {
   "display_name": "Python 3",
   "language": "python",
   "name": "python3"
  },
  "language_info": {
   "codemirror_mode": {
    "name": "ipython",
    "version": 3
   },
   "file_extension": ".py",
   "mimetype": "text/x-python",
   "name": "python",
   "nbconvert_exporter": "python",
   "pygments_lexer": "ipython3",
   "version": "3.7.4"
  }
 },
 "nbformat": 4,
 "nbformat_minor": 2
}
